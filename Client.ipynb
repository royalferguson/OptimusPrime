{
 "cells": [
  {
   "cell_type": "code",
   "execution_count": 1,
   "metadata": {},
   "outputs": [],
   "source": [
    "from OptimusPrime import AlgoDigitalTwin, utils\n",
    "from OptimusPrime.utils.functions.single_obj import rosenbrock\n",
    "import OptimusPrime.configuration as cfg\n",
    "from OptimusPrime.logger import *\n",
    "import numpy as np \n",
    "import pandas as pd\n",
    "import argparse, sys\n",
    "import os"
   ]
  },
  {
   "cell_type": "code",
   "execution_count": 2,
   "metadata": {},
   "outputs": [
    {
     "name": "stdout",
     "output_type": "stream",
     "text": [
      "{'fun': 1.4263200343949438, 'x': [0.24651656313581377, -0.009734613375154133, -0.407424689679321, -0.016394764669528827, 0.25439475791050137, -0.6456805447264747, 0.00821241977136068, 0.32985273256209435, -0.2779450573412817, -0.002540277280753747, 0.2406918533522982, -0.08587241834681161, -0.08742803387600347, 0.10107327370353447, 0.09150640619000847, 0.15348094602856197, 0.27872825685786634, 0.24766704537924164, -0.4810568152882504, -0.21424508536494083]}\n"
     ]
    }
   ],
   "source": [
    "import requests\n",
    "import pickle\n",
    "import json\n",
    "import marshal\n",
    "\n",
    "def customFunc(x):\n",
    "    x = np.array(x)\n",
    "    return np.sum(x*x)\n",
    "args = {\n",
    "    'solver' : 'GlobalBestPSO'\n",
    "}\n",
    "kwargs = {\n",
    "        'x0': utils.get_random_x0((400,20), -5, 10),\n",
    "        'dimensions':20,\n",
    "        'bounds': np.full((20,2), (-5, 10)),\n",
    "        'maxiter':100,\n",
    "        'n_particles':400,\n",
    "\n",
    "        'options': {'c1':0.5,'c2': 0.7, 'w' : 0.9},\n",
    "        'pso_kwargs': {'bh_strategy' : 'periodic',\n",
    "                        'velocity_clamp' : None,\n",
    "                        'vh_strategy' : 'unmodified',\n",
    "                        'center' : 1.0,\n",
    "                        'ftol' : 1e-10\n",
    "                        }\n",
    "        }\n",
    "\n",
    "url = 'http://127.0.0.1:5000/'\n",
    "payload = pickle.dumps({'args': args, 'kwargs': kwargs, 'func': marshal.dumps(customFunc.__code__)},protocol=2)\n",
    "\n",
    "# POST with form-encoded data\n",
    "r = requests.post(url, data=payload)\n",
    "print(json.loads(r.content))"
   ]
  },
  {
   "cell_type": "code",
   "execution_count": null,
   "metadata": {},
   "outputs": [],
   "source": []
  }
 ],
 "metadata": {
  "kernelspec": {
   "display_name": "Python 3",
   "language": "python",
   "name": "python3"
  },
  "language_info": {
   "codemirror_mode": {
    "name": "ipython",
    "version": 3
   },
   "file_extension": ".py",
   "mimetype": "text/x-python",
   "name": "python",
   "nbconvert_exporter": "python",
   "pygments_lexer": "ipython3",
   "version": "3.7.6"
  }
 },
 "nbformat": 4,
 "nbformat_minor": 4
}
