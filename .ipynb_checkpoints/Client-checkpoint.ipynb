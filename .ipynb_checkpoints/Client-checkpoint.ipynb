{
 "cells": [
  {
   "cell_type": "code",
   "execution_count": 24,
   "metadata": {},
   "outputs": [],
   "source": [
    "from OptimusPrime import AlgoDigitalTwin, utils\n",
    "from OptimusPrime.utils.functions.single_obj import rosenbrock\n",
    "import OptimusPrime.configuration as cfg\n",
    "from OptimusPrime.logger import *\n",
    "import numpy as np \n",
    "import pandas as pd\n",
    "import argparse, sys\n",
    "import os"
   ]
  },
  {
   "cell_type": "code",
   "execution_count": 27,
   "metadata": {},
   "outputs": [
    {
     "name": "stdout",
     "output_type": "stream",
     "text": [
      "{'fun': 4.754817439471104, 'x': [-0.8565862935873237, -0.10013372903781592, 0.2849234990358982, 0.2574602411914928, 0.3488729444427272, 0.5183657404513067, 0.1876349235566041, 1.3044486581718615, 0.5821708669131133, 0.5632353844992841, -0.36495712138294906, -0.33450588239314544, -0.08797841833557114, -0.44463254483182185, 0.3142822149166098, 0.431992464593008, 0.05478624991416836, 0.22574523571786193, 0.39205910768611774, -0.36963237095482726]}\n"
     ]
    }
   ],
   "source": [
    "import requests\n",
    "import pickle\n",
    "import json\n",
    "import marshal\n",
    "\n",
    "def customFunc(x):\n",
    "    x = np.array(x)\n",
    "    return np.sum(x*x)\n",
    "args = {\n",
    "    'solver' : 'GlobalBestPSO'\n",
    "}\n",
    "kwargs = {\n",
    "        'x0': utils.get_random_x0((400,20), -5, 10),\n",
    "        'dimensions':20,\n",
    "        'bounds': np.full((20,2), (-5, 10)),\n",
    "        'maxiter':100,\n",
    "        'n_particles':400,\n",
    "\n",
    "        'options': {'c1':0.5,'c2': 0.7, 'w' : 0.9},\n",
    "        'pso_kwargs': {'bh_strategy' : 'periodic',\n",
    "                        'velocity_clamp' : None,\n",
    "                        'vh_strategy' : 'unmodified',\n",
    "                        'center' : 1.0,\n",
    "                        'ftol' : 1e-10\n",
    "                        }\n",
    "        }\n",
    "\n",
    "url = 'http://127.0.0.1:5000/'\n",
    "payload = pickle.dumps({'args': args, 'kwargs': kwargs, 'func': marshal.dumps(customFunc.__code__)},protocol=2)\n",
    "\n",
    "# POST with form-encoded data\n",
    "r = requests.post(url, data=payload)\n",
    "print(json.loads(r.content))"
   ]
  },
  {
   "cell_type": "code",
   "execution_count": null,
   "metadata": {},
   "outputs": [],
   "source": []
  }
 ],
 "metadata": {
  "kernelspec": {
   "display_name": "Python 3",
   "language": "python",
   "name": "python3"
  },
  "language_info": {
   "codemirror_mode": {
    "name": "ipython",
    "version": 3
   },
   "file_extension": ".py",
   "mimetype": "text/x-python",
   "name": "python",
   "nbconvert_exporter": "python",
   "pygments_lexer": "ipython3",
   "version": "3.6.1"
  }
 },
 "nbformat": 4,
 "nbformat_minor": 4
}
