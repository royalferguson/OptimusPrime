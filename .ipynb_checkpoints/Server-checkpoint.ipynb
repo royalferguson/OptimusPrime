{
 "cells": [
  {
   "cell_type": "code",
   "execution_count": 1,
   "metadata": {},
   "outputs": [],
   "source": [
    "from OptimusPrime import AlgoDigitalTwin, utils\n",
    "import OptimusPrime.configuration as cfg\n",
    "from OptimusPrime.logger import *\n",
    "import os\n",
    "\n",
    "class RosenbrockDigitalTwin(AlgoDigitalTwin):\n",
    "\n",
    "        def __init__ (self, func):\n",
    "            super().__init__(func)\n",
    "\n",
    "        def optimize(self, args, kwargs):\n",
    "            return super().optimize(args, kwargs)"
   ]
  },
  {
   "cell_type": "code",
   "execution_count": null,
   "metadata": {},
   "outputs": [
    {
     "name": "stdout",
     "output_type": "stream",
     "text": [
      " * Serving Flask app \"__main__\" (lazy loading)\n",
      " * Environment: production\n",
      "   WARNING: This is a development server. Do not use it in a production deployment.\n",
      "   Use a production WSGI server instead.\n",
      " * Debug mode: on\n"
     ]
    },
    {
     "name": "stderr",
     "output_type": "stream",
     "text": [
      "2020-07-16 20:37:53,477 - werkzeug - INFO -  * Running on http://127.0.0.1:5000/ (Press CTRL+C to quit)\n",
      "2020-07-16 20:37:57,097 - pyswarms.single.global_best - INFO - Optimize for 1 iters with {'c1': 0.5, 'c2': 0.7, 'w': 0.9}\n",
      "pyswarms.single.global_best: 100%|██████████|1/1, best_cost=394\n",
      "2020-07-16 20:37:58,061 - pyswarms.single.global_best - INFO - Optimization Finished | Best Cost: 394.33126102911996, Best Position: [ 1.9072604  -4.01736932  5.6719625  -4.05726897  5.70302361  3.13846879\n",
      " -2.59975357 -0.14385183  1.44787856 -2.93226469 -0.02103815 -2.56400663\n",
      "  0.41298754 -4.09765061  6.85628587  0.18413143 -4.85671642 -3.90869499\n",
      "  1.20905802  1.33884102]\n",
      "2020-07-16 20:37:58,157 - werkzeug - INFO - 127.0.0.1 - - [16/Jul/2020 20:37:58] \"\u001b[37mPOST / HTTP/1.1\u001b[0m\" 200 -\n"
     ]
    },
    {
     "name": "stdout",
     "output_type": "stream",
     "text": [
      "Number of iterations:   1.0\n"
     ]
    },
    {
     "name": "stderr",
     "output_type": "stream",
     "text": [
      "2020-07-16 20:38:15,303 - pyswarms.single.global_best - INFO - Optimize for 1 iters with {'c1': 0.5, 'c2': 0.7, 'w': 0.9}\n",
      "pyswarms.single.global_best: 100%|██████████|1/1, best_cost=209\n",
      "2020-07-16 20:38:16,254 - pyswarms.single.global_best - INFO - Optimization Finished | Best Cost: 209.27985369951486, Best Position: [-2.32992235 -0.56582949 -3.45205502 -0.02114773 -0.1670078   2.59152687\n",
      " -1.04474832 -2.98291872  0.87534079  3.30758866  0.61168636  1.27562004\n",
      "  4.52280003 -4.90453968 -1.17273904  6.87878932  6.89336085  1.91909467\n",
      "  2.06462963  3.53634722]\n",
      "2020-07-16 20:38:16,350 - werkzeug - INFO - 127.0.0.1 - - [16/Jul/2020 20:38:16] \"\u001b[37mPOST / HTTP/1.1\u001b[0m\" 200 -\n"
     ]
    },
    {
     "name": "stdout",
     "output_type": "stream",
     "text": [
      "Number of iterations:   1.0\n"
     ]
    },
    {
     "name": "stderr",
     "output_type": "stream",
     "text": [
      "2020-07-16 20:38:22,767 - pyswarms.single.global_best - INFO - Optimize for 100 iters with {'c1': 0.5, 'c2': 0.7, 'w': 0.9}\n",
      "pyswarms.single.global_best: 100%|██████████|100/100, best_cost=4.75\n",
      "2020-07-16 20:40:09,110 - pyswarms.single.global_best - INFO - Optimization Finished | Best Cost: 4.754817439471104, Best Position: [-0.85658629 -0.10013373  0.2849235   0.25746024  0.34887294  0.51836574\n",
      "  0.18763492  1.30444866  0.58217087  0.56323538 -0.36495712 -0.33450588\n",
      " -0.08797842 -0.44463254  0.31428221  0.43199246  0.05478625  0.22574524\n",
      "  0.39205911 -0.36963237]\n"
     ]
    },
    {
     "name": "stdout",
     "output_type": "stream",
     "text": [
      "Number of iterations:   100.0\n"
     ]
    },
    {
     "name": "stderr",
     "output_type": "stream",
     "text": [
      "2020-07-16 20:40:18,312 - werkzeug - INFO - 127.0.0.1 - - [16/Jul/2020 20:40:18] \"\u001b[37mPOST / HTTP/1.1\u001b[0m\" 200 -\n"
     ]
    }
   ],
   "source": [
    "import flask\n",
    "import pickle\n",
    "from flask import request, json\n",
    "import requests\n",
    "import marshal, types\n",
    "app = flask.Flask(__name__)\n",
    "app.config[\"DEBUG\"] = True\n",
    "\n",
    "class classArgs():\n",
    "    solver = ''\n",
    "@app.route('/', methods=['POST'])\n",
    "def home():\n",
    "    model = pickle.loads(request.get_data())\n",
    "    code = marshal.loads(model['func'])\n",
    "    func = types.FunctionType(code, globals(), \"some_func_name\")\n",
    "    kwargs = model['kwargs']\n",
    "    Args = model['args']\n",
    "    args = classArgs()\n",
    "    args.solver = Args['solver']\n",
    "    res = cfg.main(RosenbrockDigitalTwin(func), args, kwargs)\n",
    "    data = {\n",
    "        'x': res.x.tolist(),\n",
    "        'fun': res.fun\n",
    "    }\n",
    "    response = app.response_class(\n",
    "        response=json.dumps(data),\n",
    "        status=200,\n",
    "        mimetype='application/json'\n",
    "    )\n",
    "    return response\n",
    "    \n",
    "app.run(debug=True, use_reloader=False)"
   ]
  },
  {
   "cell_type": "code",
   "execution_count": null,
   "metadata": {},
   "outputs": [],
   "source": []
  }
 ],
 "metadata": {
  "kernelspec": {
   "display_name": "Python 3",
   "language": "python",
   "name": "python3"
  },
  "language_info": {
   "codemirror_mode": {
    "name": "ipython",
    "version": 3
   },
   "file_extension": ".py",
   "mimetype": "text/x-python",
   "name": "python",
   "nbconvert_exporter": "python",
   "pygments_lexer": "ipython3",
   "version": "3.6.1"
  }
 },
 "nbformat": 4,
 "nbformat_minor": 4
}
