{
 "cells": [
  {
   "cell_type": "code",
   "execution_count": null,
   "metadata": {},
   "outputs": [],
   "source": [
    "from OptimusPrime import AlgoDigitalTwin, utils\n",
    "import OptimusPrime.configuration as cfg\n",
    "from OptimusPrime.logger import *\n",
    "import os\n",
    "\n",
    "class RosenbrockDigitalTwin(AlgoDigitalTwin):\n",
    "\n",
    "        def __init__ (self, func):\n",
    "            super().__init__(func)\n",
    "\n",
    "        def optimize(self, args, kwargs):\n",
    "            return super().optimize(args, kwargs)"
   ]
  },
  {
   "cell_type": "code",
   "execution_count": null,
   "metadata": {},
   "outputs": [],
   "source": [
    "import flask\n",
    "import pickle\n",
    "from flask import request, json\n",
    "import requests\n",
    "import marshal, types\n",
    "app = flask.Flask(__name__)\n",
    "app.config[\"DEBUG\"] = True\n",
    "\n",
    "class classArgs():\n",
    "    solver = ''\n",
    "@app.route('/', methods=['POST'])\n",
    "def home():\n",
    "    model = pickle.loads(request.get_data())\n",
    "    code = marshal.loads(model['func'])\n",
    "    func = types.FunctionType(code, globals(), \"some_func_name\")\n",
    "    kwargs = model['kwargs']\n",
    "    Args = model['args']\n",
    "    args = classArgs()\n",
    "    args.solver = Args['solver']\n",
    "    res = cfg.main(RosenbrockDigitalTwin(func), args, kwargs)\n",
    "    data = {\n",
    "        'x': res.x.tolist(),\n",
    "        'fun': res.fun\n",
    "    }\n",
    "    response = app.response_class(\n",
    "        response=json.dumps(data),\n",
    "        status=200,\n",
    "        mimetype='application/json'\n",
    "    )\n",
    "    return response\n",
    "    \n",
    "app.run(debug=True, use_reloader=False)"
   ]
  },
  {
   "cell_type": "code",
   "execution_count": null,
   "metadata": {},
   "outputs": [],
   "source": []
  }
 ],
 "metadata": {
  "kernelspec": {
   "display_name": "Python 3",
   "language": "python",
   "name": "python3"
  },
  "language_info": {
   "codemirror_mode": {
    "name": "ipython",
    "version": 3
   },
   "file_extension": ".py",
   "mimetype": "text/x-python",
   "name": "python",
   "nbconvert_exporter": "python",
   "pygments_lexer": "ipython3",
   "version": "3.6.1"
  }
 },
 "nbformat": 4,
 "nbformat_minor": 4
}
