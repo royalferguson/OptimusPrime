{
 "cells": [
  {
   "cell_type": "code",
   "execution_count": 1,
   "metadata": {},
   "outputs": [],
   "source": [
    "from OptimusPrime import AlgoDigitalTwin, utils\n",
    "import OptimusPrime.configuration as cfg\n",
    "from OptimusPrime.logger import *\n",
    "import os\n",
    "\n",
    "class RosenbrockDigitalTwin(AlgoDigitalTwin):\n",
    "\n",
    "        def __init__ (self, func):\n",
    "            super().__init__(func)\n",
    "\n",
    "        def optimize(self, args, kwargs):\n",
    "            return super().optimize(args, kwargs)"
   ]
  },
  {
   "cell_type": "code",
   "execution_count": null,
   "metadata": {},
   "outputs": [
    {
     "name": "stdout",
     "output_type": "stream",
     "text": [
      " * Serving Flask app \"__main__\" (lazy loading)\n",
      " * Environment: production\n",
      "   WARNING: This is a development server. Do not use it in a production deployment.\n",
      "   Use a production WSGI server instead.\n",
      " * Debug mode: on\n"
     ]
    },
    {
     "name": "stderr",
     "output_type": "stream",
     "text": [
      "2020-07-16 14:45:21,221 - werkzeug - INFO -  * Running on http://127.0.0.1:5000/ (Press CTRL+C to quit)\n",
      "2020-07-16 14:46:07,871 - pyswarms.single.global_best - INFO - Optimize for 100 iters with {'c1': 0.5, 'c2': 0.7, 'w': 0.9}\n",
      "pyswarms.single.global_best: 100%|██████████|100/100, best_cost=1.43\n",
      "2020-07-16 14:48:50,720 - pyswarms.single.global_best - INFO - Optimization Finished | Best Cost: 1.4263200343949438, Best Position: [ 0.24651656 -0.00973461 -0.40742469 -0.01639476  0.25439476 -0.64568054\n",
      "  0.00821242  0.32985273 -0.27794506 -0.00254028  0.24069185 -0.08587242\n",
      " -0.08742803  0.10107327  0.09150641  0.15348095  0.27872826  0.24766705\n",
      " -0.48105682 -0.21424509]\n"
     ]
    },
    {
     "name": "stdout",
     "output_type": "stream",
     "text": [
      "Number of iterations:   100.0\n"
     ]
    },
    {
     "name": "stderr",
     "output_type": "stream",
     "text": [
      "2020-07-16 14:49:04,990 - werkzeug - INFO - 127.0.0.1 - - [16/Jul/2020 14:49:04] \"\u001b[37mPOST / HTTP/1.1\u001b[0m\" 200 -\n"
     ]
    }
   ],
   "source": [
    "import flask\n",
    "import pickle\n",
    "from flask import request, json\n",
    "import requests\n",
    "import marshal, types\n",
    "app = flask.Flask(__name__)\n",
    "app.config[\"DEBUG\"] = True\n",
    "\n",
    "class classArgs():\n",
    "    solver = ''\n",
    "@app.route('/', methods=['POST'])\n",
    "def home():\n",
    "    model = pickle.loads(request.get_data())\n",
    "    code = marshal.loads(model['func'])\n",
    "    func = types.FunctionType(code, globals(), \"some_func_name\")\n",
    "    kwargs = model['kwargs']\n",
    "    Args = model['args']\n",
    "    args = classArgs()\n",
    "    args.solver = Args['solver']\n",
    "    res = cfg.main(RosenbrockDigitalTwin(func), args, kwargs)\n",
    "    data = {\n",
    "        'x': res.x.tolist(),\n",
    "        'fun': res.fun\n",
    "    }\n",
    "    response = app.response_class(\n",
    "        response=json.dumps(data),\n",
    "        status=200,\n",
    "        mimetype='application/json'\n",
    "    )\n",
    "    return response\n",
    "    \n",
    "app.run(debug=True, use_reloader=False)"
   ]
  },
  {
   "cell_type": "code",
   "execution_count": null,
   "metadata": {},
   "outputs": [],
   "source": []
  }
 ],
 "metadata": {
  "kernelspec": {
   "display_name": "Python 3",
   "language": "python",
   "name": "python3"
  },
  "language_info": {
   "codemirror_mode": {
    "name": "ipython",
    "version": 3
   },
   "file_extension": ".py",
   "mimetype": "text/x-python",
   "name": "python",
   "nbconvert_exporter": "python",
   "pygments_lexer": "ipython3",
   "version": "3.7.6"
  }
 },
 "nbformat": 4,
 "nbformat_minor": 4
}
